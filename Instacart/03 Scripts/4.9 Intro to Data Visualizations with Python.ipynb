{
 "cells": [
  {
   "cell_type": "code",
   "execution_count": 1,
   "id": "89dc8e15",
   "metadata": {},
   "outputs": [],
   "source": [
    "#this section contains all the commands that need to be run once at the begining of the script\n",
    "import pandas as pd\n",
    "import numpy as np\n",
    "import os\n",
    "import matplotlib.pyplot as plt\n",
    "import seaborn as sns\n",
    "import scipy\n",
    "\n",
    "path = r'C:\\Users\\sryan\\Documents\\CareerFoundry\\Insta Cart Basket Analysis'\n",
    "\n",
    "ords_prod = pd.read_pickle(os.path.join(path, '02 data', 'Prepared data', 'orders_products_flagged.pkl'))"
   ]
  },
  {
   "cell_type": "code",
   "execution_count": 3,
   "id": "db1ac24f",
   "metadata": {
    "scrolled": true
   },
   "outputs": [
    {
     "data": {
      "text/html": [
       "<div>\n",
       "<style scoped>\n",
       "    .dataframe tbody tr th:only-of-type {\n",
       "        vertical-align: middle;\n",
       "    }\n",
       "\n",
       "    .dataframe tbody tr th {\n",
       "        vertical-align: top;\n",
       "    }\n",
       "\n",
       "    .dataframe thead th {\n",
       "        text-align: right;\n",
       "    }\n",
       "</style>\n",
       "<table border=\"1\" class=\"dataframe\">\n",
       "  <thead>\n",
       "    <tr style=\"text-align: right;\">\n",
       "      <th></th>\n",
       "      <th>order_id</th>\n",
       "      <th>user_id</th>\n",
       "      <th>Cust_order_num</th>\n",
       "      <th>orders_day_of_week</th>\n",
       "      <th>order_hour_of_day</th>\n",
       "      <th>days_since_prior_order</th>\n",
       "      <th>product_id</th>\n",
       "      <th>add_to_cart_order</th>\n",
       "      <th>reordered</th>\n",
       "      <th>Unnamed: 0</th>\n",
       "      <th>...</th>\n",
       "      <th>price_range_loc</th>\n",
       "      <th>busiest_day</th>\n",
       "      <th>busiest_days</th>\n",
       "      <th>hour_busyness</th>\n",
       "      <th>max_order</th>\n",
       "      <th>loyalty_flag</th>\n",
       "      <th>mean_price</th>\n",
       "      <th>spend_flag</th>\n",
       "      <th>median_days_since_last</th>\n",
       "      <th>frequency_flag</th>\n",
       "    </tr>\n",
       "  </thead>\n",
       "  <tbody>\n",
       "    <tr>\n",
       "      <th>0</th>\n",
       "      <td>2539329</td>\n",
       "      <td>1</td>\n",
       "      <td>1</td>\n",
       "      <td>2</td>\n",
       "      <td>8</td>\n",
       "      <td>NaN</td>\n",
       "      <td>196</td>\n",
       "      <td>1</td>\n",
       "      <td>0</td>\n",
       "      <td>195</td>\n",
       "      <td>...</td>\n",
       "      <td>Mid-range product</td>\n",
       "      <td>Regularly busy</td>\n",
       "      <td>Regularly busy</td>\n",
       "      <td>Average orders</td>\n",
       "      <td>10</td>\n",
       "      <td>New customer</td>\n",
       "      <td>6.367797</td>\n",
       "      <td>Low Spender</td>\n",
       "      <td>20.5</td>\n",
       "      <td>Non-frequent customer</td>\n",
       "    </tr>\n",
       "    <tr>\n",
       "      <th>1</th>\n",
       "      <td>2398795</td>\n",
       "      <td>1</td>\n",
       "      <td>2</td>\n",
       "      <td>3</td>\n",
       "      <td>7</td>\n",
       "      <td>15.0</td>\n",
       "      <td>196</td>\n",
       "      <td>1</td>\n",
       "      <td>1</td>\n",
       "      <td>195</td>\n",
       "      <td>...</td>\n",
       "      <td>Mid-range product</td>\n",
       "      <td>Regularly busy</td>\n",
       "      <td>Least busy</td>\n",
       "      <td>Average orders</td>\n",
       "      <td>10</td>\n",
       "      <td>New customer</td>\n",
       "      <td>6.367797</td>\n",
       "      <td>Low Spender</td>\n",
       "      <td>20.5</td>\n",
       "      <td>Non-frequent customer</td>\n",
       "    </tr>\n",
       "    <tr>\n",
       "      <th>2</th>\n",
       "      <td>473747</td>\n",
       "      <td>1</td>\n",
       "      <td>3</td>\n",
       "      <td>3</td>\n",
       "      <td>12</td>\n",
       "      <td>21.0</td>\n",
       "      <td>196</td>\n",
       "      <td>1</td>\n",
       "      <td>1</td>\n",
       "      <td>195</td>\n",
       "      <td>...</td>\n",
       "      <td>Mid-range product</td>\n",
       "      <td>Regularly busy</td>\n",
       "      <td>Least busy</td>\n",
       "      <td>Most orders</td>\n",
       "      <td>10</td>\n",
       "      <td>New customer</td>\n",
       "      <td>6.367797</td>\n",
       "      <td>Low Spender</td>\n",
       "      <td>20.5</td>\n",
       "      <td>Non-frequent customer</td>\n",
       "    </tr>\n",
       "    <tr>\n",
       "      <th>3</th>\n",
       "      <td>2254736</td>\n",
       "      <td>1</td>\n",
       "      <td>4</td>\n",
       "      <td>4</td>\n",
       "      <td>7</td>\n",
       "      <td>29.0</td>\n",
       "      <td>196</td>\n",
       "      <td>1</td>\n",
       "      <td>1</td>\n",
       "      <td>195</td>\n",
       "      <td>...</td>\n",
       "      <td>Mid-range product</td>\n",
       "      <td>Least busy</td>\n",
       "      <td>Least busy</td>\n",
       "      <td>Average orders</td>\n",
       "      <td>10</td>\n",
       "      <td>New customer</td>\n",
       "      <td>6.367797</td>\n",
       "      <td>Low Spender</td>\n",
       "      <td>20.5</td>\n",
       "      <td>Non-frequent customer</td>\n",
       "    </tr>\n",
       "    <tr>\n",
       "      <th>4</th>\n",
       "      <td>431534</td>\n",
       "      <td>1</td>\n",
       "      <td>5</td>\n",
       "      <td>4</td>\n",
       "      <td>15</td>\n",
       "      <td>28.0</td>\n",
       "      <td>196</td>\n",
       "      <td>1</td>\n",
       "      <td>1</td>\n",
       "      <td>195</td>\n",
       "      <td>...</td>\n",
       "      <td>Mid-range product</td>\n",
       "      <td>Least busy</td>\n",
       "      <td>Least busy</td>\n",
       "      <td>Most orders</td>\n",
       "      <td>10</td>\n",
       "      <td>New customer</td>\n",
       "      <td>6.367797</td>\n",
       "      <td>Low Spender</td>\n",
       "      <td>20.5</td>\n",
       "      <td>Non-frequent customer</td>\n",
       "    </tr>\n",
       "  </tbody>\n",
       "</table>\n",
       "<p>5 rows × 25 columns</p>\n",
       "</div>"
      ],
      "text/plain": [
       "   order_id  user_id  Cust_order_num  orders_day_of_week  order_hour_of_day  \\\n",
       "0   2539329        1               1                   2                  8   \n",
       "1   2398795        1               2                   3                  7   \n",
       "2    473747        1               3                   3                 12   \n",
       "3   2254736        1               4                   4                  7   \n",
       "4    431534        1               5                   4                 15   \n",
       "\n",
       "   days_since_prior_order  product_id  add_to_cart_order  reordered  \\\n",
       "0                     NaN         196                  1          0   \n",
       "1                    15.0         196                  1          1   \n",
       "2                    21.0         196                  1          1   \n",
       "3                    29.0         196                  1          1   \n",
       "4                    28.0         196                  1          1   \n",
       "\n",
       "   Unnamed: 0  ...    price_range_loc     busiest_day    busiest_days  \\\n",
       "0         195  ...  Mid-range product  Regularly busy  Regularly busy   \n",
       "1         195  ...  Mid-range product  Regularly busy      Least busy   \n",
       "2         195  ...  Mid-range product  Regularly busy      Least busy   \n",
       "3         195  ...  Mid-range product      Least busy      Least busy   \n",
       "4         195  ...  Mid-range product      Least busy      Least busy   \n",
       "\n",
       "    hour_busyness max_order  loyalty_flag mean_price   spend_flag  \\\n",
       "0  Average orders        10  New customer   6.367797  Low Spender   \n",
       "1  Average orders        10  New customer   6.367797  Low Spender   \n",
       "2     Most orders        10  New customer   6.367797  Low Spender   \n",
       "3  Average orders        10  New customer   6.367797  Low Spender   \n",
       "4     Most orders        10  New customer   6.367797  Low Spender   \n",
       "\n",
       "  median_days_since_last         frequency_flag  \n",
       "0                   20.5  Non-frequent customer  \n",
       "1                   20.5  Non-frequent customer  \n",
       "2                   20.5  Non-frequent customer  \n",
       "3                   20.5  Non-frequent customer  \n",
       "4                   20.5  Non-frequent customer  \n",
       "\n",
       "[5 rows x 25 columns]"
      ]
     },
     "execution_count": 3,
     "metadata": {},
     "output_type": "execute_result"
    }
   ],
   "source": [
    "ords_prod.head()"
   ]
  },
  {
   "cell_type": "code",
   "execution_count": 4,
   "id": "b01e09c9",
   "metadata": {},
   "outputs": [
    {
     "data": {
      "text/plain": [
       "<Axes: >"
      ]
     },
     "execution_count": 4,
     "metadata": {},
     "output_type": "execute_result"
    },
    {
     "data": {
      "image/png": "[encoded data removed]",
      "text/plain": [
       "<Figure size 640x480 with 1 Axes>"
      ]
     },
     "metadata": {},
     "output_type": "display_data"
    }
   ],
   "source": [
    "#Create a bar chart\n",
    "ords_prod['orders_day_of_week'].value_counts().sort_index().plot.bar(color = ['purple', 'red', 'pink', 'orange', 'yellow', 'green', 'blue'])"
   ]
  },
  {
   "cell_type": "code",
   "execution_count": 5,
   "id": "160c960e",
   "metadata": {},
   "outputs": [
    {
     "data": {
      "image/png": "[encoded data removed]",
      "text/plain": [
       "<Figure size 640x480 with 1 Axes>"
      ]
     },
     "metadata": {},
     "output_type": "display_data"
    }
   ],
   "source": [
    "#assign the chart to a variable\n",
    "bar = ords_prod['orders_day_of_week'].value_counts().plot.bar(color =['purple', 'red', 'pink', 'orange', 'yellow', 'green', 'blue'])"
   ]
  },
  {
   "cell_type": "code",
   "execution_count": 10,
   "id": "fc6b796a",
   "metadata": {},
   "outputs": [],
   "source": [
    "#export the chart\n",
    "bar.figure.savefig(os.path.join(path, '04 Analysis','Visualizations', 'bar_orders_dow.png'))"
   ]
  },
  {
   "cell_type": "code",
   "execution_count": 6,
   "id": "010e7406",
   "metadata": {},
   "outputs": [
    {
     "data": {
      "text/plain": [
       "<Axes: ylabel='Frequency'>"
      ]
     },
     "execution_count": 6,
     "metadata": {},
     "output_type": "execute_result"
    },
    {
     "data": {
      "image/png": "[encoded data removed]",
      "text/plain": [
       "<Figure size 640x480 with 1 Axes>"
      ]
     },
     "metadata": {},
     "output_type": "display_data"
    }
   ],
   "source": [
    "#create a histogram\n",
    "ords_prod['prices'].plot.hist(bins=25)"
   ]
  },
  {
   "cell_type": "code",
   "execution_count": 7,
   "id": "d8a5cdb2",
   "metadata": {},
   "outputs": [
    {
     "data": {
      "text/plain": [
       "count    3.240486e+07\n",
       "mean     1.198023e+01\n",
       "std      4.956554e+02\n",
       "min      1.000000e+00\n",
       "25%      4.200000e+00\n",
       "50%      7.400000e+00\n",
       "75%      1.130000e+01\n",
       "max      9.999900e+04\n",
       "Name: prices, dtype: float64"
      ]
     },
     "execution_count": 7,
     "metadata": {},
     "output_type": "execute_result"
    }
   ],
   "source": [
    "#review descriptive stats to see figure out why the histogram looks unexpected\n",
    "ords_prod['prices'].describe()"
   ]
  },
  {
   "cell_type": "code",
   "execution_count": 8,
   "id": "2781415b",
   "metadata": {},
   "outputs": [
    {
     "data": {
      "text/plain": [
       "<Axes: xlabel='prices', ylabel='prices'>"
      ]
     },
     "execution_count": 8,
     "metadata": {},
     "output_type": "execute_result"
    },
    {
     "data": {
      "image/png": "[encoded data removed]",
      "text/plain": [
       "<Figure size 640x480 with 1 Axes>"
      ]
     },
     "metadata": {},
     "output_type": "display_data"
    }
   ],
   "source": [
    "#create a scatter plot to continue invistigation into prices\n",
    "sns.scatterplot(x = 'prices', y = 'prices',data = ords_prod)"
   ]
  },
  {
   "cell_type": "code",
   "execution_count": 11,
   "id": "7c8fa9fd",
   "metadata": {},
   "outputs": [
    {
     "data": {
      "text/html": [
       "<div>\n",
       "<style scoped>\n",
       "    .dataframe tbody tr th:only-of-type {\n",
       "        vertical-align: middle;\n",
       "    }\n",
       "\n",
       "    .dataframe tbody tr th {\n",
       "        vertical-align: top;\n",
       "    }\n",
       "\n",
       "    .dataframe thead th {\n",
       "        text-align: right;\n",
       "    }\n",
       "</style>\n",
       "<table border=\"1\" class=\"dataframe\">\n",
       "  <thead>\n",
       "    <tr style=\"text-align: right;\">\n",
       "      <th></th>\n",
       "      <th>order_id</th>\n",
       "      <th>user_id</th>\n",
       "      <th>Cust_order_num</th>\n",
       "      <th>orders_day_of_week</th>\n",
       "      <th>order_hour_of_day</th>\n",
       "      <th>days_since_prior_order</th>\n",
       "      <th>product_id</th>\n",
       "      <th>add_to_cart_order</th>\n",
       "      <th>reordered</th>\n",
       "      <th>Unnamed: 0</th>\n",
       "      <th>...</th>\n",
       "      <th>price_range_loc</th>\n",
       "      <th>busiest_day</th>\n",
       "      <th>busiest_days</th>\n",
       "      <th>hour_busyness</th>\n",
       "      <th>max_order</th>\n",
       "      <th>loyalty_flag</th>\n",
       "      <th>mean_price</th>\n",
       "      <th>spend_flag</th>\n",
       "      <th>median_days_since_last</th>\n",
       "      <th>frequency_flag</th>\n",
       "    </tr>\n",
       "  </thead>\n",
       "  <tbody>\n",
       "  </tbody>\n",
       "</table>\n",
       "<p>0 rows × 25 columns</p>\n",
       "</div>"
      ],
      "text/plain": [
       "Empty DataFrame\n",
       "Columns: [order_id, user_id, Cust_order_num, orders_day_of_week, order_hour_of_day, days_since_prior_order, product_id, add_to_cart_order, reordered, Unnamed: 0, product_name, aisle_id, department_id, prices, _merge, price_range_loc, busiest_day, busiest_days, hour_busyness, max_order, loyalty_flag, mean_price, spend_flag, median_days_since_last, frequency_flag]\n",
       "Index: []\n",
       "\n",
       "[0 rows x 25 columns]"
      ]
     },
     "execution_count": 11,
     "metadata": {},
     "output_type": "execute_result"
    }
   ],
   "source": [
    "ords_prod.loc[ords_prod['prices']>100]"
   ]
  },
  {
   "cell_type": "code",
   "execution_count": 2,
   "id": "c8317b59",
   "metadata": {},
   "outputs": [],
   "source": [
    "ords_prod.loc[ords_prod['prices'] >100, 'prices'] = np.nan"
   ]
  },
  {
   "cell_type": "code",
   "execution_count": 3,
   "id": "e771505f",
   "metadata": {},
   "outputs": [
    {
     "data": {
      "image/png": "[encoded data removed]",
      "text/plain": [
       "<Figure size 640x480 with 1 Axes>"
      ]
     },
     "metadata": {},
     "output_type": "display_data"
    }
   ],
   "source": [
    "#create a histogram with cleaned data\n",
    "hist = ords_prod['prices'].plot.hist(bins=70)"
   ]
  },
  {
   "cell_type": "code",
   "execution_count": 5,
   "id": "e0bf88e1",
   "metadata": {},
   "outputs": [],
   "source": [
    "ords_prod['prices'].describe().to_clipboard()"
   ]
  },
  {
   "cell_type": "code",
   "execution_count": 10,
   "id": "266b560b",
   "metadata": {},
   "outputs": [],
   "source": [
    "hist.figure.savefig(os.path.join(path, '04 Analysis','Visualizations', 'hist_prices.png'))"
   ]
  },
  {
   "cell_type": "markdown",
   "id": "a25fc8f9",
   "metadata": {},
   "source": [
    "exploring creating a random sample from a data stet"
   ]
  },
  {
   "cell_type": "code",
   "execution_count": 14,
   "id": "787d0c36",
   "metadata": {},
   "outputs": [],
   "source": [
    "np.random.seed(4)\n",
    "dev = np.random.rand(len(ords_prod)) <= 0.7"
   ]
  },
  {
   "cell_type": "code",
   "execution_count": 15,
   "id": "03012ecd",
   "metadata": {},
   "outputs": [
    {
     "data": {
      "text/plain": [
       "array([False,  True, False, ...,  True,  True,  True])"
      ]
     },
     "execution_count": 15,
     "metadata": {},
     "output_type": "execute_result"
    }
   ],
   "source": [
    "dev"
   ]
  },
  {
   "cell_type": "code",
   "execution_count": 16,
   "id": "0b355eeb",
   "metadata": {},
   "outputs": [],
   "source": [
    "big = ords_prod[dev]\n",
    "small = ords_prod[~dev]"
   ]
  },
  {
   "cell_type": "code",
   "execution_count": 17,
   "id": "97cbede2",
   "metadata": {},
   "outputs": [],
   "source": [
    "df_2 = small[['prices', 'orders_day_of_week']]"
   ]
  },
  {
   "cell_type": "code",
   "execution_count": 18,
   "id": "936d75e0",
   "metadata": {},
   "outputs": [
    {
     "data": {
      "image/png": "[encoded data removed]",
      "text/plain": [
       "<Figure size 640x480 with 1 Axes>"
      ]
     },
     "metadata": {},
     "output_type": "display_data"
    }
   ],
   "source": [
    "line = sns.lineplot(data = df_2, x = 'orders_day_of_week', y = 'prices')"
   ]
  },
  {
   "cell_type": "code",
   "execution_count": 1,
   "id": "3a20907a",
   "metadata": {},
   "outputs": [],
   "source": [
    "#code to create a line chart on the whole data set\n",
    "\n",
    "#df_prices = ords_prod[['prices', 'orders_day_of_week']]\n",
    "#line_prices = sns.lineplot(data = df_prices, x = 'orders_day_of_week', y = 'prices')"
   ]
  },
  {
   "cell_type": "code",
   "execution_count": 19,
   "id": "474b7758",
   "metadata": {},
   "outputs": [],
   "source": [
    "line.figure.savefig(os.path.join(path, '04 Analysis','Visualizations', 'line_prices_dow.png'))"
   ]
  },
  {
   "cell_type": "code",
   "execution_count": null,
   "id": "7765d7ca",
   "metadata": {},
   "outputs": [],
   "source": []
  }
 ],
 "metadata": {
  "kernelspec": {
   "display_name": "Python 3 (ipykernel)",
   "language": "python",
   "name": "python3"
  },
  "language_info": {
   "codemirror_mode": {
    "name": "ipython",
    "version": 3
   },
   "file_extension": ".py",
   "mimetype": "text/x-python",
   "name": "python",
   "nbconvert_exporter": "python",
   "pygments_lexer": "ipython3",
   "version": "3.11.3"
  }
 },
 "nbformat": 4,
 "nbformat_minor": 5
}
