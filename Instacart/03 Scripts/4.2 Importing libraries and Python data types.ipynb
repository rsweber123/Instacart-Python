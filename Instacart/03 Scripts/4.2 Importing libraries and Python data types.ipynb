{
 "cells": [
  {
   "cell_type": "markdown",
   "id": "35250fb1",
   "metadata": {},
   "source": [
    "Importing Libraries"
   ]
  },
  {
   "cell_type": "code",
   "execution_count": 1,
   "id": "a72021e0",
   "metadata": {},
   "outputs": [],
   "source": [
    "# Import Libraries\n",
    "import pandas as pd\n",
    "import numpy as np\n",
    "import os"
   ]
  },
  {
   "cell_type": "markdown",
   "id": "b6bc4c2e",
   "metadata": {},
   "source": [
    "Working With Data Types"
   ]
  },
  {
   "cell_type": "code",
   "execution_count": 40,
   "id": "c12b9e3f",
   "metadata": {},
   "outputs": [
    {
     "name": "stdout",
     "output_type": "stream",
     "text": [
      "Today we are going to add to 100!!\n",
      "Please enter a number between 1-100: 50\n",
      "0 + 50 = 50\n",
      "50 + 50 = 100\n",
      "We added 50 2 times!\n",
      "\n",
      "\n",
      "You can also static code numbers and use them to reach 100.\n",
      "x= 96 y= 4 x+y= 100\n",
      "u= 150 v= 50 u-v= 100\n"
     ]
    }
   ],
   "source": [
    "#the first part of this program could be modified to take user input for a number to add to as well\n",
    "print(\"Today we are going to add to 100!!\")\n",
    "\n",
    "choice = 'wrong'\n",
    "\n",
    "\n",
    "#checks that the value imput by the user is a digit between 1-100\n",
    "#if not is asks the user to try again\n",
    "\n",
    "while choice.isdigit() == False:\n",
    "    \n",
    "    choice = input(\"Please enter a number between 1-100: \")\n",
    "    \n",
    "    if choice.isdigit() == False:\n",
    "        print('Please enter the number in the form of a digit.')\n",
    "    elif int(choice) > 101 or int(choice) < 1:\n",
    "        print('your number is outside the acceptable range.  Please enter a number between 1-100:')\n",
    "        choice = 'wrong'\n",
    "\n",
    "#casts the user input to an int from a string\n",
    "int_choice = int(choice)\n",
    "        \n",
    "a=0\n",
    "i=0\n",
    "\n",
    "#adds the user's number until 100 is reached\n",
    "while a < 100:\n",
    "    \n",
    "    if a + int_choice > 100:\n",
    "        print(a, \"+\", 100-a, \"=\", a + (100-a))\n",
    "        print(\"we added\", choice, round(i+((100-a)/int_choice),2), \"times!\")\n",
    "        a += (100-a)\n",
    "    else:\n",
    "        print(a, \"+\", int_choice, \"=\", a + int_choice)\n",
    "        a += int_choice\n",
    "        i += 1\n",
    "        \n",
    "if 100%int_choice == 0: print(\"We added\", choice, i, \"times!\")\n",
    "    \n",
    "#the following are static coded numbers used to reach 100\n",
    "\n",
    "\n",
    "print(\"\\n\")\n",
    "print(\"You can also static code numbers and use them to reach 100.\")\n",
    "x=96\n",
    "y=4\n",
    "\n",
    "print(\"x=\", x, \"y=\", y, \"x+y=\", x+y)\n",
    "\n",
    "u=150\n",
    "v=50\n",
    "\n",
    "print(\"u=\", u, \"v=\", v, \"u-v=\", u-v)"
   ]
  },
  {
   "cell_type": "code",
   "execution_count": 50,
   "id": "4e9c8f3a",
   "metadata": {},
   "outputs": [
    {
     "name": "stdout",
     "output_type": "stream",
     "text": [
      "Float number 1 is: 37.54\n",
      "Float number 2 is: 64.98\n",
      "float 1 / float 2 =  0.5777162203755001\n",
      "That number can be cleaned up a little by using the Round() \n",
      " 0.58\n"
     ]
    }
   ],
   "source": [
    "#dividing floats\n",
    "\n",
    "f1 = 37.54\n",
    "f2 = 64.98\n",
    "\n",
    "print(\"Float number 1 is:\", f1)\n",
    "print(\"Float number 2 is:\", f2)\n",
    "print(\"float 1 / float 2 = \", f1/f2)\n",
    "print(\"That number can be cleaned up a little by using the Round()\", \"\\n\", round(f1/f2,2))"
   ]
  },
  {
   "cell_type": "code",
   "execution_count": 52,
   "id": "06baa24d",
   "metadata": {},
   "outputs": [
    {
     "name": "stdout",
     "output_type": "stream",
     "text": [
      "Hello\n"
     ]
    }
   ],
   "source": [
    "#concatenating letters\n",
    "\n",
    "l1 = 'H'\n",
    "l2 = 'e'\n",
    "l3 = 'l'\n",
    "l4 = 'l'\n",
    "l5 = 'o'\n",
    "\n",
    "print(l1+l2+l3+l4+l5)"
   ]
  },
  {
   "cell_type": "code",
   "execution_count": 59,
   "id": "3bfc2180",
   "metadata": {},
   "outputs": [
    {
     "name": "stdout",
     "output_type": "stream",
     "text": [
      "hello world !\n",
      "Are having fun with Python?\n"
     ]
    }
   ],
   "source": [
    "w1 = \"hello \"\n",
    "w2 = \"world\"\n",
    "w3 = 'Are '\n",
    "w4 = 'we '\n",
    "w4 = 'having '\n",
    "w5 = 'fun '\n",
    "w6 = 'with Python?'\n",
    "\n",
    "print(w1+ w2, \"!\")\n",
    "print(w3+w4+w5+w6)"
   ]
  },
  {
   "cell_type": "code",
   "execution_count": null,
   "id": "c1a2c237",
   "metadata": {},
   "outputs": [],
   "source": []
  }
 ],
 "metadata": {
  "kernelspec": {
   "display_name": "Python 3 (ipykernel)",
   "language": "python",
   "name": "python3"
  },
  "language_info": {
   "codemirror_mode": {
    "name": "ipython",
    "version": 3
   },
   "file_extension": ".py",
   "mimetype": "text/x-python",
   "name": "python",
   "nbconvert_exporter": "python",
   "pygments_lexer": "ipython3",
   "version": "3.11.3"
  }
 },
 "nbformat": 4,
 "nbformat_minor": 5
}
